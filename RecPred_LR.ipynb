{
  "nbformat": 4,
  "nbformat_minor": 0,
  "metadata": {
    "colab": {
      "name": "RecPred.ipynb",
      "provenance": [],
      "collapsed_sections": [],
      "include_colab_link": true
    },
    "kernelspec": {
      "name": "python3",
      "display_name": "Python 3"
    },
    "language_info": {
      "name": "python"
    }
  },
  "cells": [
    {
      "cell_type": "markdown",
      "metadata": {
        "id": "view-in-github",
        "colab_type": "text"
      },
      "source": [
        "<a href=\"https://colab.research.google.com/github/Akhil-2001/Recurrance_Prediction/blob/main/RecPred_LR.ipynb\" target=\"_parent\"><img src=\"https://colab.research.google.com/assets/colab-badge.svg\" alt=\"Open In Colab\"/></a>"
      ]
    },
    {
      "cell_type": "code",
      "execution_count": null,
      "metadata": {
        "id": "--426TWtIeXs"
      },
      "outputs": [],
      "source": [
        "import pandas as pd\n",
        "import numpy as np"
      ]
    },
    {
      "cell_type": "code",
      "source": [
        "col_names=['id', 'outcome', 'time', 'radius_mean',\t'texture_mean',\t'perimeter_mean',\t'area_mean',\t'smoothness_mean',\t'compactness_mean',\t'concavity_mean',\t'concave_points_mean',\t'symmetry_mean', 'fractal_dimension_mean', 'radius_se', 'texture_se', 'perimeter_se', 'area_se', 'smoothness_se', 'compactness_se', 'concavity_se', 'concave_points_se', 'symmetry_se', 'fractal_dimension_se', 'radius_worst', 'texture_worst',\t'perimeter_worst',\t'area_worst',\t'smoothness_worst', 'compactness_worst',\t'concavity_worst',\t'concave_points_worst',\t'symmetry_worst',\t'fractal_dimension_worst', 'tumor_size', 'lymph_node_status'\t]"
      ],
      "metadata": {
        "id": "zO6jjC_rBcwz"
      },
      "execution_count": null,
      "outputs": []
    },
    {
      "cell_type": "code",
      "source": [
        "len(col_names)"
      ],
      "metadata": {
        "colab": {
          "base_uri": "https://localhost:8080/"
        },
        "id": "JTgf76c5H1GI",
        "outputId": "a78c9de4-54b0-409b-d220-8591f034210a"
      },
      "execution_count": null,
      "outputs": [
        {
          "output_type": "execute_result",
          "data": {
            "text/plain": [
              "35"
            ]
          },
          "metadata": {},
          "execution_count": 2204
        }
      ]
    },
    {
      "cell_type": "code",
      "source": [
        "COLUMNS_COUNT = 36\n",
        "\n",
        "\n",
        "# with open(fl.data, 'r') as f:\n",
        "#     columns = [next(f).strip() for line in range(COLUMNS_COUNT)]\n",
        "\n",
        "temp_df = pd.read_csv('https://raw.githubusercontent.com/Akhil-2001/Recurrance_Prediction/main/wpbc.data', skiprows=COLUMNS_COUNT, header=None, delimiter=',', skip_blank_lines=False)\n",
        "\n",
        "temp_df"
      ],
      "metadata": {
        "colab": {
          "base_uri": "https://localhost:8080/",
          "height": 488
        },
        "id": "qXTcS8NcDsK1",
        "outputId": "6c241814-1091-4eb6-d520-8b9ba0d3a33d"
      },
      "execution_count": null,
      "outputs": [
        {
          "output_type": "execute_result",
          "data": {
            "text/plain": [
              "         0  1    2      3      4       5       6        7        8        9   \\\n",
              "0    856385  N   76  13.17  21.81   85.42   531.5  0.09714  0.10470  0.08259   \n",
              "1    857010  R    8  18.65  17.60  123.70  1076.0  0.10990  0.16860  0.19740   \n",
              "2     85715  N  111  13.17  18.66   85.98   534.6  0.11580  0.12310  0.12260   \n",
              "3    857438  R   48  15.10  22.02   97.26   712.8  0.09056  0.07081  0.05253   \n",
              "4    857637  R   11  19.21  18.57  125.50  1152.0  0.10530  0.12670  0.13230   \n",
              "..      ... ..  ...    ...    ...     ...     ...      ...      ...      ...   \n",
              "157  942640  N   10  22.52  21.92  146.90  1597.0  0.07592  0.09162  0.06862   \n",
              "158  943471  N    8  15.44  31.18  101.00   740.4  0.09399  0.10620  0.13750   \n",
              "159   94547  N   12  17.17  29.19  110.00   915.3  0.08952  0.06655  0.06583   \n",
              "160  947204  R    3  21.42  22.84  145.00  1440.0  0.10700  0.19390  0.23800   \n",
              "161  947489  N    6  16.70  28.13  110.30   885.4  0.08896  0.11310  0.10120   \n",
              "\n",
              "     ...     25      26       27      28      29       30      31       32  \\\n",
              "0    ...  105.5   740.7  0.15030  0.3904  0.3728  0.16070  0.3693  0.09618   \n",
              "1    ...  150.6  1567.0  0.16790  0.5090  0.7345  0.23780  0.3799  0.09185   \n",
              "2    ...  102.8   759.4  0.17860  0.4166  0.5006  0.20880  0.3900  0.11790   \n",
              "3    ...  117.7  1030.0  0.13890  0.2057  0.2712  0.15300  0.2675  0.07873   \n",
              "4    ...  170.1  2145.0  0.16240  0.3511  0.3879  0.20910  0.3537  0.08294   \n",
              "..   ...    ...     ...      ...     ...     ...      ...     ...      ...   \n",
              "157  ...  162.1  1902.0  0.08191  0.1319  0.1056  0.09378  0.2061  0.05788   \n",
              "158  ...  112.6   929.0  0.12720  0.2362  0.2975  0.12860  0.2914  0.08024   \n",
              "159  ...  132.5  1295.0  0.12610  0.1572  0.2141  0.09520  0.3362  0.06033   \n",
              "160  ...  198.3  2375.0  0.14980  0.4379  0.5411  0.22150  0.2832  0.08981   \n",
              "161  ...  128.8  1213.0  0.13300  0.2808  0.3455  0.13170  0.3035  0.08036   \n",
              "\n",
              "      33  34  \n",
              "0    1.7   1  \n",
              "1    1.8   0  \n",
              "2    1.0   1  \n",
              "3    2.5   0  \n",
              "4    3.2  13  \n",
              "..   ...  ..  \n",
              "157  6.0   2  \n",
              "158  1.5   0  \n",
              "159  3.7   0  \n",
              "160  3.0   ?  \n",
              "161  3.5   0  \n",
              "\n",
              "[162 rows x 35 columns]"
            ],
            "text/html": [
              "\n",
              "  <div id=\"df-ef27d708-fc42-407d-a24c-15a87552a861\">\n",
              "    <div class=\"colab-df-container\">\n",
              "      <div>\n",
              "<style scoped>\n",
              "    .dataframe tbody tr th:only-of-type {\n",
              "        vertical-align: middle;\n",
              "    }\n",
              "\n",
              "    .dataframe tbody tr th {\n",
              "        vertical-align: top;\n",
              "    }\n",
              "\n",
              "    .dataframe thead th {\n",
              "        text-align: right;\n",
              "    }\n",
              "</style>\n",
              "<table border=\"1\" class=\"dataframe\">\n",
              "  <thead>\n",
              "    <tr style=\"text-align: right;\">\n",
              "      <th></th>\n",
              "      <th>0</th>\n",
              "      <th>1</th>\n",
              "      <th>2</th>\n",
              "      <th>3</th>\n",
              "      <th>4</th>\n",
              "      <th>5</th>\n",
              "      <th>6</th>\n",
              "      <th>7</th>\n",
              "      <th>8</th>\n",
              "      <th>9</th>\n",
              "      <th>...</th>\n",
              "      <th>25</th>\n",
              "      <th>26</th>\n",
              "      <th>27</th>\n",
              "      <th>28</th>\n",
              "      <th>29</th>\n",
              "      <th>30</th>\n",
              "      <th>31</th>\n",
              "      <th>32</th>\n",
              "      <th>33</th>\n",
              "      <th>34</th>\n",
              "    </tr>\n",
              "  </thead>\n",
              "  <tbody>\n",
              "    <tr>\n",
              "      <th>0</th>\n",
              "      <td>856385</td>\n",
              "      <td>N</td>\n",
              "      <td>76</td>\n",
              "      <td>13.17</td>\n",
              "      <td>21.81</td>\n",
              "      <td>85.42</td>\n",
              "      <td>531.5</td>\n",
              "      <td>0.09714</td>\n",
              "      <td>0.10470</td>\n",
              "      <td>0.08259</td>\n",
              "      <td>...</td>\n",
              "      <td>105.5</td>\n",
              "      <td>740.7</td>\n",
              "      <td>0.15030</td>\n",
              "      <td>0.3904</td>\n",
              "      <td>0.3728</td>\n",
              "      <td>0.16070</td>\n",
              "      <td>0.3693</td>\n",
              "      <td>0.09618</td>\n",
              "      <td>1.7</td>\n",
              "      <td>1</td>\n",
              "    </tr>\n",
              "    <tr>\n",
              "      <th>1</th>\n",
              "      <td>857010</td>\n",
              "      <td>R</td>\n",
              "      <td>8</td>\n",
              "      <td>18.65</td>\n",
              "      <td>17.60</td>\n",
              "      <td>123.70</td>\n",
              "      <td>1076.0</td>\n",
              "      <td>0.10990</td>\n",
              "      <td>0.16860</td>\n",
              "      <td>0.19740</td>\n",
              "      <td>...</td>\n",
              "      <td>150.6</td>\n",
              "      <td>1567.0</td>\n",
              "      <td>0.16790</td>\n",
              "      <td>0.5090</td>\n",
              "      <td>0.7345</td>\n",
              "      <td>0.23780</td>\n",
              "      <td>0.3799</td>\n",
              "      <td>0.09185</td>\n",
              "      <td>1.8</td>\n",
              "      <td>0</td>\n",
              "    </tr>\n",
              "    <tr>\n",
              "      <th>2</th>\n",
              "      <td>85715</td>\n",
              "      <td>N</td>\n",
              "      <td>111</td>\n",
              "      <td>13.17</td>\n",
              "      <td>18.66</td>\n",
              "      <td>85.98</td>\n",
              "      <td>534.6</td>\n",
              "      <td>0.11580</td>\n",
              "      <td>0.12310</td>\n",
              "      <td>0.12260</td>\n",
              "      <td>...</td>\n",
              "      <td>102.8</td>\n",
              "      <td>759.4</td>\n",
              "      <td>0.17860</td>\n",
              "      <td>0.4166</td>\n",
              "      <td>0.5006</td>\n",
              "      <td>0.20880</td>\n",
              "      <td>0.3900</td>\n",
              "      <td>0.11790</td>\n",
              "      <td>1.0</td>\n",
              "      <td>1</td>\n",
              "    </tr>\n",
              "    <tr>\n",
              "      <th>3</th>\n",
              "      <td>857438</td>\n",
              "      <td>R</td>\n",
              "      <td>48</td>\n",
              "      <td>15.10</td>\n",
              "      <td>22.02</td>\n",
              "      <td>97.26</td>\n",
              "      <td>712.8</td>\n",
              "      <td>0.09056</td>\n",
              "      <td>0.07081</td>\n",
              "      <td>0.05253</td>\n",
              "      <td>...</td>\n",
              "      <td>117.7</td>\n",
              "      <td>1030.0</td>\n",
              "      <td>0.13890</td>\n",
              "      <td>0.2057</td>\n",
              "      <td>0.2712</td>\n",
              "      <td>0.15300</td>\n",
              "      <td>0.2675</td>\n",
              "      <td>0.07873</td>\n",
              "      <td>2.5</td>\n",
              "      <td>0</td>\n",
              "    </tr>\n",
              "    <tr>\n",
              "      <th>4</th>\n",
              "      <td>857637</td>\n",
              "      <td>R</td>\n",
              "      <td>11</td>\n",
              "      <td>19.21</td>\n",
              "      <td>18.57</td>\n",
              "      <td>125.50</td>\n",
              "      <td>1152.0</td>\n",
              "      <td>0.10530</td>\n",
              "      <td>0.12670</td>\n",
              "      <td>0.13230</td>\n",
              "      <td>...</td>\n",
              "      <td>170.1</td>\n",
              "      <td>2145.0</td>\n",
              "      <td>0.16240</td>\n",
              "      <td>0.3511</td>\n",
              "      <td>0.3879</td>\n",
              "      <td>0.20910</td>\n",
              "      <td>0.3537</td>\n",
              "      <td>0.08294</td>\n",
              "      <td>3.2</td>\n",
              "      <td>13</td>\n",
              "    </tr>\n",
              "    <tr>\n",
              "      <th>...</th>\n",
              "      <td>...</td>\n",
              "      <td>...</td>\n",
              "      <td>...</td>\n",
              "      <td>...</td>\n",
              "      <td>...</td>\n",
              "      <td>...</td>\n",
              "      <td>...</td>\n",
              "      <td>...</td>\n",
              "      <td>...</td>\n",
              "      <td>...</td>\n",
              "      <td>...</td>\n",
              "      <td>...</td>\n",
              "      <td>...</td>\n",
              "      <td>...</td>\n",
              "      <td>...</td>\n",
              "      <td>...</td>\n",
              "      <td>...</td>\n",
              "      <td>...</td>\n",
              "      <td>...</td>\n",
              "      <td>...</td>\n",
              "      <td>...</td>\n",
              "    </tr>\n",
              "    <tr>\n",
              "      <th>157</th>\n",
              "      <td>942640</td>\n",
              "      <td>N</td>\n",
              "      <td>10</td>\n",
              "      <td>22.52</td>\n",
              "      <td>21.92</td>\n",
              "      <td>146.90</td>\n",
              "      <td>1597.0</td>\n",
              "      <td>0.07592</td>\n",
              "      <td>0.09162</td>\n",
              "      <td>0.06862</td>\n",
              "      <td>...</td>\n",
              "      <td>162.1</td>\n",
              "      <td>1902.0</td>\n",
              "      <td>0.08191</td>\n",
              "      <td>0.1319</td>\n",
              "      <td>0.1056</td>\n",
              "      <td>0.09378</td>\n",
              "      <td>0.2061</td>\n",
              "      <td>0.05788</td>\n",
              "      <td>6.0</td>\n",
              "      <td>2</td>\n",
              "    </tr>\n",
              "    <tr>\n",
              "      <th>158</th>\n",
              "      <td>943471</td>\n",
              "      <td>N</td>\n",
              "      <td>8</td>\n",
              "      <td>15.44</td>\n",
              "      <td>31.18</td>\n",
              "      <td>101.00</td>\n",
              "      <td>740.4</td>\n",
              "      <td>0.09399</td>\n",
              "      <td>0.10620</td>\n",
              "      <td>0.13750</td>\n",
              "      <td>...</td>\n",
              "      <td>112.6</td>\n",
              "      <td>929.0</td>\n",
              "      <td>0.12720</td>\n",
              "      <td>0.2362</td>\n",
              "      <td>0.2975</td>\n",
              "      <td>0.12860</td>\n",
              "      <td>0.2914</td>\n",
              "      <td>0.08024</td>\n",
              "      <td>1.5</td>\n",
              "      <td>0</td>\n",
              "    </tr>\n",
              "    <tr>\n",
              "      <th>159</th>\n",
              "      <td>94547</td>\n",
              "      <td>N</td>\n",
              "      <td>12</td>\n",
              "      <td>17.17</td>\n",
              "      <td>29.19</td>\n",
              "      <td>110.00</td>\n",
              "      <td>915.3</td>\n",
              "      <td>0.08952</td>\n",
              "      <td>0.06655</td>\n",
              "      <td>0.06583</td>\n",
              "      <td>...</td>\n",
              "      <td>132.5</td>\n",
              "      <td>1295.0</td>\n",
              "      <td>0.12610</td>\n",
              "      <td>0.1572</td>\n",
              "      <td>0.2141</td>\n",
              "      <td>0.09520</td>\n",
              "      <td>0.3362</td>\n",
              "      <td>0.06033</td>\n",
              "      <td>3.7</td>\n",
              "      <td>0</td>\n",
              "    </tr>\n",
              "    <tr>\n",
              "      <th>160</th>\n",
              "      <td>947204</td>\n",
              "      <td>R</td>\n",
              "      <td>3</td>\n",
              "      <td>21.42</td>\n",
              "      <td>22.84</td>\n",
              "      <td>145.00</td>\n",
              "      <td>1440.0</td>\n",
              "      <td>0.10700</td>\n",
              "      <td>0.19390</td>\n",
              "      <td>0.23800</td>\n",
              "      <td>...</td>\n",
              "      <td>198.3</td>\n",
              "      <td>2375.0</td>\n",
              "      <td>0.14980</td>\n",
              "      <td>0.4379</td>\n",
              "      <td>0.5411</td>\n",
              "      <td>0.22150</td>\n",
              "      <td>0.2832</td>\n",
              "      <td>0.08981</td>\n",
              "      <td>3.0</td>\n",
              "      <td>?</td>\n",
              "    </tr>\n",
              "    <tr>\n",
              "      <th>161</th>\n",
              "      <td>947489</td>\n",
              "      <td>N</td>\n",
              "      <td>6</td>\n",
              "      <td>16.70</td>\n",
              "      <td>28.13</td>\n",
              "      <td>110.30</td>\n",
              "      <td>885.4</td>\n",
              "      <td>0.08896</td>\n",
              "      <td>0.11310</td>\n",
              "      <td>0.10120</td>\n",
              "      <td>...</td>\n",
              "      <td>128.8</td>\n",
              "      <td>1213.0</td>\n",
              "      <td>0.13300</td>\n",
              "      <td>0.2808</td>\n",
              "      <td>0.3455</td>\n",
              "      <td>0.13170</td>\n",
              "      <td>0.3035</td>\n",
              "      <td>0.08036</td>\n",
              "      <td>3.5</td>\n",
              "      <td>0</td>\n",
              "    </tr>\n",
              "  </tbody>\n",
              "</table>\n",
              "<p>162 rows × 35 columns</p>\n",
              "</div>\n",
              "      <button class=\"colab-df-convert\" onclick=\"convertToInteractive('df-ef27d708-fc42-407d-a24c-15a87552a861')\"\n",
              "              title=\"Convert this dataframe to an interactive table.\"\n",
              "              style=\"display:none;\">\n",
              "        \n",
              "  <svg xmlns=\"http://www.w3.org/2000/svg\" height=\"24px\"viewBox=\"0 0 24 24\"\n",
              "       width=\"24px\">\n",
              "    <path d=\"M0 0h24v24H0V0z\" fill=\"none\"/>\n",
              "    <path d=\"M18.56 5.44l.94 2.06.94-2.06 2.06-.94-2.06-.94-.94-2.06-.94 2.06-2.06.94zm-11 1L8.5 8.5l.94-2.06 2.06-.94-2.06-.94L8.5 2.5l-.94 2.06-2.06.94zm10 10l.94 2.06.94-2.06 2.06-.94-2.06-.94-.94-2.06-.94 2.06-2.06.94z\"/><path d=\"M17.41 7.96l-1.37-1.37c-.4-.4-.92-.59-1.43-.59-.52 0-1.04.2-1.43.59L10.3 9.45l-7.72 7.72c-.78.78-.78 2.05 0 2.83L4 21.41c.39.39.9.59 1.41.59.51 0 1.02-.2 1.41-.59l7.78-7.78 2.81-2.81c.8-.78.8-2.07 0-2.86zM5.41 20L4 18.59l7.72-7.72 1.47 1.35L5.41 20z\"/>\n",
              "  </svg>\n",
              "      </button>\n",
              "      \n",
              "  <style>\n",
              "    .colab-df-container {\n",
              "      display:flex;\n",
              "      flex-wrap:wrap;\n",
              "      gap: 12px;\n",
              "    }\n",
              "\n",
              "    .colab-df-convert {\n",
              "      background-color: #E8F0FE;\n",
              "      border: none;\n",
              "      border-radius: 50%;\n",
              "      cursor: pointer;\n",
              "      display: none;\n",
              "      fill: #1967D2;\n",
              "      height: 32px;\n",
              "      padding: 0 0 0 0;\n",
              "      width: 32px;\n",
              "    }\n",
              "\n",
              "    .colab-df-convert:hover {\n",
              "      background-color: #E2EBFA;\n",
              "      box-shadow: 0px 1px 2px rgba(60, 64, 67, 0.3), 0px 1px 3px 1px rgba(60, 64, 67, 0.15);\n",
              "      fill: #174EA6;\n",
              "    }\n",
              "\n",
              "    [theme=dark] .colab-df-convert {\n",
              "      background-color: #3B4455;\n",
              "      fill: #D2E3FC;\n",
              "    }\n",
              "\n",
              "    [theme=dark] .colab-df-convert:hover {\n",
              "      background-color: #434B5C;\n",
              "      box-shadow: 0px 1px 3px 1px rgba(0, 0, 0, 0.15);\n",
              "      filter: drop-shadow(0px 1px 2px rgba(0, 0, 0, 0.3));\n",
              "      fill: #FFFFFF;\n",
              "    }\n",
              "  </style>\n",
              "\n",
              "      <script>\n",
              "        const buttonEl =\n",
              "          document.querySelector('#df-ef27d708-fc42-407d-a24c-15a87552a861 button.colab-df-convert');\n",
              "        buttonEl.style.display =\n",
              "          google.colab.kernel.accessAllowed ? 'block' : 'none';\n",
              "\n",
              "        async function convertToInteractive(key) {\n",
              "          const element = document.querySelector('#df-ef27d708-fc42-407d-a24c-15a87552a861');\n",
              "          const dataTable =\n",
              "            await google.colab.kernel.invokeFunction('convertToInteractive',\n",
              "                                                     [key], {});\n",
              "          if (!dataTable) return;\n",
              "\n",
              "          const docLinkHtml = 'Like what you see? Visit the ' +\n",
              "            '<a target=\"_blank\" href=https://colab.research.google.com/notebooks/data_table.ipynb>data table notebook</a>'\n",
              "            + ' to learn more about interactive tables.';\n",
              "          element.innerHTML = '';\n",
              "          dataTable['output_type'] = 'display_data';\n",
              "          await google.colab.output.renderOutput(dataTable, element);\n",
              "          const docLink = document.createElement('div');\n",
              "          docLink.innerHTML = docLinkHtml;\n",
              "          element.appendChild(docLink);\n",
              "        }\n",
              "      </script>\n",
              "    </div>\n",
              "  </div>\n",
              "  "
            ]
          },
          "metadata": {},
          "execution_count": 2205
        }
      ]
    },
    {
      "cell_type": "code",
      "source": [
        "temp_df.columns=col_names"
      ],
      "metadata": {
        "id": "NB-b698sD1-A"
      },
      "execution_count": null,
      "outputs": []
    },
    {
      "cell_type": "code",
      "source": [
        "temp_df.head()"
      ],
      "metadata": {
        "colab": {
          "base_uri": "https://localhost:8080/",
          "height": 299
        },
        "id": "p-gQ285tEUoF",
        "outputId": "a10f5d11-3f62-4b08-ec20-24ffc740e466"
      },
      "execution_count": null,
      "outputs": [
        {
          "output_type": "execute_result",
          "data": {
            "text/plain": [
              "       id outcome  time  radius_mean  texture_mean  perimeter_mean  area_mean  \\\n",
              "0  856385       N    76        13.17         21.81           85.42      531.5   \n",
              "1  857010       R     8        18.65         17.60          123.70     1076.0   \n",
              "2   85715       N   111        13.17         18.66           85.98      534.6   \n",
              "3  857438       R    48        15.10         22.02           97.26      712.8   \n",
              "4  857637       R    11        19.21         18.57          125.50     1152.0   \n",
              "\n",
              "   smoothness_mean  compactness_mean  concavity_mean  ...  perimeter_worst  \\\n",
              "0          0.09714           0.10470         0.08259  ...            105.5   \n",
              "1          0.10990           0.16860         0.19740  ...            150.6   \n",
              "2          0.11580           0.12310         0.12260  ...            102.8   \n",
              "3          0.09056           0.07081         0.05253  ...            117.7   \n",
              "4          0.10530           0.12670         0.13230  ...            170.1   \n",
              "\n",
              "   area_worst  smoothness_worst  compactness_worst  concavity_worst  \\\n",
              "0       740.7            0.1503             0.3904           0.3728   \n",
              "1      1567.0            0.1679             0.5090           0.7345   \n",
              "2       759.4            0.1786             0.4166           0.5006   \n",
              "3      1030.0            0.1389             0.2057           0.2712   \n",
              "4      2145.0            0.1624             0.3511           0.3879   \n",
              "\n",
              "   concave_points_worst  symmetry_worst  fractal_dimension_worst  tumor_size  \\\n",
              "0                0.1607          0.3693                  0.09618         1.7   \n",
              "1                0.2378          0.3799                  0.09185         1.8   \n",
              "2                0.2088          0.3900                  0.11790         1.0   \n",
              "3                0.1530          0.2675                  0.07873         2.5   \n",
              "4                0.2091          0.3537                  0.08294         3.2   \n",
              "\n",
              "   lymph_node_status  \n",
              "0                  1  \n",
              "1                  0  \n",
              "2                  1  \n",
              "3                  0  \n",
              "4                 13  \n",
              "\n",
              "[5 rows x 35 columns]"
            ],
            "text/html": [
              "\n",
              "  <div id=\"df-efe135b8-0871-4ec7-a6ab-0f943ed52fc1\">\n",
              "    <div class=\"colab-df-container\">\n",
              "      <div>\n",
              "<style scoped>\n",
              "    .dataframe tbody tr th:only-of-type {\n",
              "        vertical-align: middle;\n",
              "    }\n",
              "\n",
              "    .dataframe tbody tr th {\n",
              "        vertical-align: top;\n",
              "    }\n",
              "\n",
              "    .dataframe thead th {\n",
              "        text-align: right;\n",
              "    }\n",
              "</style>\n",
              "<table border=\"1\" class=\"dataframe\">\n",
              "  <thead>\n",
              "    <tr style=\"text-align: right;\">\n",
              "      <th></th>\n",
              "      <th>id</th>\n",
              "      <th>outcome</th>\n",
              "      <th>time</th>\n",
              "      <th>radius_mean</th>\n",
              "      <th>texture_mean</th>\n",
              "      <th>perimeter_mean</th>\n",
              "      <th>area_mean</th>\n",
              "      <th>smoothness_mean</th>\n",
              "      <th>compactness_mean</th>\n",
              "      <th>concavity_mean</th>\n",
              "      <th>...</th>\n",
              "      <th>perimeter_worst</th>\n",
              "      <th>area_worst</th>\n",
              "      <th>smoothness_worst</th>\n",
              "      <th>compactness_worst</th>\n",
              "      <th>concavity_worst</th>\n",
              "      <th>concave_points_worst</th>\n",
              "      <th>symmetry_worst</th>\n",
              "      <th>fractal_dimension_worst</th>\n",
              "      <th>tumor_size</th>\n",
              "      <th>lymph_node_status</th>\n",
              "    </tr>\n",
              "  </thead>\n",
              "  <tbody>\n",
              "    <tr>\n",
              "      <th>0</th>\n",
              "      <td>856385</td>\n",
              "      <td>N</td>\n",
              "      <td>76</td>\n",
              "      <td>13.17</td>\n",
              "      <td>21.81</td>\n",
              "      <td>85.42</td>\n",
              "      <td>531.5</td>\n",
              "      <td>0.09714</td>\n",
              "      <td>0.10470</td>\n",
              "      <td>0.08259</td>\n",
              "      <td>...</td>\n",
              "      <td>105.5</td>\n",
              "      <td>740.7</td>\n",
              "      <td>0.1503</td>\n",
              "      <td>0.3904</td>\n",
              "      <td>0.3728</td>\n",
              "      <td>0.1607</td>\n",
              "      <td>0.3693</td>\n",
              "      <td>0.09618</td>\n",
              "      <td>1.7</td>\n",
              "      <td>1</td>\n",
              "    </tr>\n",
              "    <tr>\n",
              "      <th>1</th>\n",
              "      <td>857010</td>\n",
              "      <td>R</td>\n",
              "      <td>8</td>\n",
              "      <td>18.65</td>\n",
              "      <td>17.60</td>\n",
              "      <td>123.70</td>\n",
              "      <td>1076.0</td>\n",
              "      <td>0.10990</td>\n",
              "      <td>0.16860</td>\n",
              "      <td>0.19740</td>\n",
              "      <td>...</td>\n",
              "      <td>150.6</td>\n",
              "      <td>1567.0</td>\n",
              "      <td>0.1679</td>\n",
              "      <td>0.5090</td>\n",
              "      <td>0.7345</td>\n",
              "      <td>0.2378</td>\n",
              "      <td>0.3799</td>\n",
              "      <td>0.09185</td>\n",
              "      <td>1.8</td>\n",
              "      <td>0</td>\n",
              "    </tr>\n",
              "    <tr>\n",
              "      <th>2</th>\n",
              "      <td>85715</td>\n",
              "      <td>N</td>\n",
              "      <td>111</td>\n",
              "      <td>13.17</td>\n",
              "      <td>18.66</td>\n",
              "      <td>85.98</td>\n",
              "      <td>534.6</td>\n",
              "      <td>0.11580</td>\n",
              "      <td>0.12310</td>\n",
              "      <td>0.12260</td>\n",
              "      <td>...</td>\n",
              "      <td>102.8</td>\n",
              "      <td>759.4</td>\n",
              "      <td>0.1786</td>\n",
              "      <td>0.4166</td>\n",
              "      <td>0.5006</td>\n",
              "      <td>0.2088</td>\n",
              "      <td>0.3900</td>\n",
              "      <td>0.11790</td>\n",
              "      <td>1.0</td>\n",
              "      <td>1</td>\n",
              "    </tr>\n",
              "    <tr>\n",
              "      <th>3</th>\n",
              "      <td>857438</td>\n",
              "      <td>R</td>\n",
              "      <td>48</td>\n",
              "      <td>15.10</td>\n",
              "      <td>22.02</td>\n",
              "      <td>97.26</td>\n",
              "      <td>712.8</td>\n",
              "      <td>0.09056</td>\n",
              "      <td>0.07081</td>\n",
              "      <td>0.05253</td>\n",
              "      <td>...</td>\n",
              "      <td>117.7</td>\n",
              "      <td>1030.0</td>\n",
              "      <td>0.1389</td>\n",
              "      <td>0.2057</td>\n",
              "      <td>0.2712</td>\n",
              "      <td>0.1530</td>\n",
              "      <td>0.2675</td>\n",
              "      <td>0.07873</td>\n",
              "      <td>2.5</td>\n",
              "      <td>0</td>\n",
              "    </tr>\n",
              "    <tr>\n",
              "      <th>4</th>\n",
              "      <td>857637</td>\n",
              "      <td>R</td>\n",
              "      <td>11</td>\n",
              "      <td>19.21</td>\n",
              "      <td>18.57</td>\n",
              "      <td>125.50</td>\n",
              "      <td>1152.0</td>\n",
              "      <td>0.10530</td>\n",
              "      <td>0.12670</td>\n",
              "      <td>0.13230</td>\n",
              "      <td>...</td>\n",
              "      <td>170.1</td>\n",
              "      <td>2145.0</td>\n",
              "      <td>0.1624</td>\n",
              "      <td>0.3511</td>\n",
              "      <td>0.3879</td>\n",
              "      <td>0.2091</td>\n",
              "      <td>0.3537</td>\n",
              "      <td>0.08294</td>\n",
              "      <td>3.2</td>\n",
              "      <td>13</td>\n",
              "    </tr>\n",
              "  </tbody>\n",
              "</table>\n",
              "<p>5 rows × 35 columns</p>\n",
              "</div>\n",
              "      <button class=\"colab-df-convert\" onclick=\"convertToInteractive('df-efe135b8-0871-4ec7-a6ab-0f943ed52fc1')\"\n",
              "              title=\"Convert this dataframe to an interactive table.\"\n",
              "              style=\"display:none;\">\n",
              "        \n",
              "  <svg xmlns=\"http://www.w3.org/2000/svg\" height=\"24px\"viewBox=\"0 0 24 24\"\n",
              "       width=\"24px\">\n",
              "    <path d=\"M0 0h24v24H0V0z\" fill=\"none\"/>\n",
              "    <path d=\"M18.56 5.44l.94 2.06.94-2.06 2.06-.94-2.06-.94-.94-2.06-.94 2.06-2.06.94zm-11 1L8.5 8.5l.94-2.06 2.06-.94-2.06-.94L8.5 2.5l-.94 2.06-2.06.94zm10 10l.94 2.06.94-2.06 2.06-.94-2.06-.94-.94-2.06-.94 2.06-2.06.94z\"/><path d=\"M17.41 7.96l-1.37-1.37c-.4-.4-.92-.59-1.43-.59-.52 0-1.04.2-1.43.59L10.3 9.45l-7.72 7.72c-.78.78-.78 2.05 0 2.83L4 21.41c.39.39.9.59 1.41.59.51 0 1.02-.2 1.41-.59l7.78-7.78 2.81-2.81c.8-.78.8-2.07 0-2.86zM5.41 20L4 18.59l7.72-7.72 1.47 1.35L5.41 20z\"/>\n",
              "  </svg>\n",
              "      </button>\n",
              "      \n",
              "  <style>\n",
              "    .colab-df-container {\n",
              "      display:flex;\n",
              "      flex-wrap:wrap;\n",
              "      gap: 12px;\n",
              "    }\n",
              "\n",
              "    .colab-df-convert {\n",
              "      background-color: #E8F0FE;\n",
              "      border: none;\n",
              "      border-radius: 50%;\n",
              "      cursor: pointer;\n",
              "      display: none;\n",
              "      fill: #1967D2;\n",
              "      height: 32px;\n",
              "      padding: 0 0 0 0;\n",
              "      width: 32px;\n",
              "    }\n",
              "\n",
              "    .colab-df-convert:hover {\n",
              "      background-color: #E2EBFA;\n",
              "      box-shadow: 0px 1px 2px rgba(60, 64, 67, 0.3), 0px 1px 3px 1px rgba(60, 64, 67, 0.15);\n",
              "      fill: #174EA6;\n",
              "    }\n",
              "\n",
              "    [theme=dark] .colab-df-convert {\n",
              "      background-color: #3B4455;\n",
              "      fill: #D2E3FC;\n",
              "    }\n",
              "\n",
              "    [theme=dark] .colab-df-convert:hover {\n",
              "      background-color: #434B5C;\n",
              "      box-shadow: 0px 1px 3px 1px rgba(0, 0, 0, 0.15);\n",
              "      filter: drop-shadow(0px 1px 2px rgba(0, 0, 0, 0.3));\n",
              "      fill: #FFFFFF;\n",
              "    }\n",
              "  </style>\n",
              "\n",
              "      <script>\n",
              "        const buttonEl =\n",
              "          document.querySelector('#df-efe135b8-0871-4ec7-a6ab-0f943ed52fc1 button.colab-df-convert');\n",
              "        buttonEl.style.display =\n",
              "          google.colab.kernel.accessAllowed ? 'block' : 'none';\n",
              "\n",
              "        async function convertToInteractive(key) {\n",
              "          const element = document.querySelector('#df-efe135b8-0871-4ec7-a6ab-0f943ed52fc1');\n",
              "          const dataTable =\n",
              "            await google.colab.kernel.invokeFunction('convertToInteractive',\n",
              "                                                     [key], {});\n",
              "          if (!dataTable) return;\n",
              "\n",
              "          const docLinkHtml = 'Like what you see? Visit the ' +\n",
              "            '<a target=\"_blank\" href=https://colab.research.google.com/notebooks/data_table.ipynb>data table notebook</a>'\n",
              "            + ' to learn more about interactive tables.';\n",
              "          element.innerHTML = '';\n",
              "          dataTable['output_type'] = 'display_data';\n",
              "          await google.colab.output.renderOutput(dataTable, element);\n",
              "          const docLink = document.createElement('div');\n",
              "          docLink.innerHTML = docLinkHtml;\n",
              "          element.appendChild(docLink);\n",
              "        }\n",
              "      </script>\n",
              "    </div>\n",
              "  </div>\n",
              "  "
            ]
          },
          "metadata": {},
          "execution_count": 2207
        }
      ]
    },
    {
      "cell_type": "code",
      "source": [
        "temp_df.isna().sum()"
      ],
      "metadata": {
        "colab": {
          "base_uri": "https://localhost:8080/"
        },
        "id": "JSZ1yP7fEV12",
        "outputId": "6f40844d-fefb-4d1e-a50d-0d0ab7cf7e6a"
      },
      "execution_count": null,
      "outputs": [
        {
          "output_type": "execute_result",
          "data": {
            "text/plain": [
              "id                         0\n",
              "outcome                    0\n",
              "time                       0\n",
              "radius_mean                0\n",
              "texture_mean               0\n",
              "perimeter_mean             0\n",
              "area_mean                  0\n",
              "smoothness_mean            0\n",
              "compactness_mean           0\n",
              "concavity_mean             0\n",
              "concave_points_mean        0\n",
              "symmetry_mean              0\n",
              "fractal_dimension_mean     0\n",
              "radius_se                  0\n",
              "texture_se                 0\n",
              "perimeter_se               0\n",
              "area_se                    0\n",
              "smoothness_se              0\n",
              "compactness_se             0\n",
              "concavity_se               0\n",
              "concave_points_se          0\n",
              "symmetry_se                0\n",
              "fractal_dimension_se       0\n",
              "radius_worst               0\n",
              "texture_worst              0\n",
              "perimeter_worst            0\n",
              "area_worst                 0\n",
              "smoothness_worst           0\n",
              "compactness_worst          0\n",
              "concavity_worst            0\n",
              "concave_points_worst       0\n",
              "symmetry_worst             0\n",
              "fractal_dimension_worst    0\n",
              "tumor_size                 0\n",
              "lymph_node_status          0\n",
              "dtype: int64"
            ]
          },
          "metadata": {},
          "execution_count": 2208
        }
      ]
    },
    {
      "cell_type": "code",
      "source": [
        ""
      ],
      "metadata": {
        "id": "T5sndohUFWUf"
      },
      "execution_count": null,
      "outputs": []
    },
    {
      "cell_type": "code",
      "source": [
        "df = temp_df"
      ],
      "metadata": {
        "id": "B50zB9fmFeUc"
      },
      "execution_count": null,
      "outputs": []
    },
    {
      "cell_type": "code",
      "source": [
        "df['outcome'].value_counts()"
      ],
      "metadata": {
        "id": "dh5ifhsuHHPp",
        "colab": {
          "base_uri": "https://localhost:8080/"
        },
        "outputId": "02eaadfa-dbdd-426a-a248-1742323090e9"
      },
      "execution_count": null,
      "outputs": [
        {
          "output_type": "execute_result",
          "data": {
            "text/plain": [
              "N    122\n",
              "R     40\n",
              "Name: outcome, dtype: int64"
            ]
          },
          "metadata": {},
          "execution_count": 2210
        }
      ]
    },
    {
      "cell_type": "code",
      "source": [
        "from sklearn.preprocessing import LabelEncoder,StandardScaler\n",
        "df['lymph_node_status'] = LabelEncoder().fit_transform(df['lymph_node_status'].values)"
      ],
      "metadata": {
        "id": "G9tzUhXYCGQj"
      },
      "execution_count": null,
      "outputs": []
    },
    {
      "cell_type": "code",
      "source": [
        "X = df.iloc[:,2:].values\n",
        "y = df.iloc[:,1].values"
      ],
      "metadata": {
        "id": "lfe8KGWQzPw6"
      },
      "execution_count": null,
      "outputs": []
    },
    {
      "cell_type": "code",
      "source": [
        "labelencode = LabelEncoder()\n",
        "y=labelencode.fit_transform(y)\n",
        "print(\"Reccur: \",(y == 1).sum())"
      ],
      "metadata": {
        "colab": {
          "base_uri": "https://localhost:8080/"
        },
        "id": "PyQCXsBg3MPF",
        "outputId": "cc6a916a-b118-494f-f1d9-29adc40d8686"
      },
      "execution_count": null,
      "outputs": [
        {
          "output_type": "stream",
          "name": "stdout",
          "text": [
            "Reccur:  40\n"
          ]
        }
      ]
    },
    {
      "cell_type": "code",
      "source": [
        "from sklearn.model_selection import train_test_split\n",
        "X_train,X_test,y_train,y_test=train_test_split(X,y,test_size=0.2,random_state=5)\n",
        "print(\"Reccur: \",(y_train == 1).sum())"
      ],
      "metadata": {
        "colab": {
          "base_uri": "https://localhost:8080/"
        },
        "id": "EafhkvtM4oLF",
        "outputId": "6d46b91b-c2d8-4468-fc06-5f6e70a7cfd9"
      },
      "execution_count": null,
      "outputs": [
        {
          "output_type": "stream",
          "name": "stdout",
          "text": [
            "Reccur:  28\n"
          ]
        }
      ]
    },
    {
      "cell_type": "markdown",
      "source": [
        "# Logistic Regression"
      ],
      "metadata": {
        "id": "rvkefclVgkrt"
      }
    },
    {
      "cell_type": "code",
      "source": [
        "from sklearn.linear_model import LogisticRegression\n",
        "from sklearn.pipeline import make_pipeline\n",
        "from sklearn.svm import SVC\n",
        "\n",
        "model = make_pipeline(StandardScaler(), LogisticRegression())\n",
        "model.fit(X_train, y_train)"
      ],
      "metadata": {
        "colab": {
          "base_uri": "https://localhost:8080/"
        },
        "id": "BW8gYaxcBESG",
        "outputId": "463775c7-64b5-4a74-9042-28cc92821178"
      },
      "execution_count": null,
      "outputs": [
        {
          "output_type": "execute_result",
          "data": {
            "text/plain": [
              "Pipeline(steps=[('standardscaler', StandardScaler()),\n",
              "                ('logisticregression', LogisticRegression())])"
            ]
          },
          "metadata": {},
          "execution_count": 2215
        }
      ]
    },
    {
      "cell_type": "code",
      "source": [
        "from sklearn.metrics import confusion_matrix, accuracy_score, recall_score, f1_score\n",
        "\n",
        "y_pred = model.predict(X_test)\n",
        "\n",
        "print(\"accuracy: \",accuracy_score(y_test,y_pred))\n",
        "print(\"F1_score: \",f1_score(y_test,y_pred))\n",
        "print(\"Recall: \",recall_score(y_test,y_pred))"
      ],
      "metadata": {
        "colab": {
          "base_uri": "https://localhost:8080/"
        },
        "id": "B7xp0rq9GE4J",
        "outputId": "2b7f0588-56a3-4c47-8b11-1751681699e7"
      },
      "execution_count": null,
      "outputs": [
        {
          "output_type": "stream",
          "name": "stdout",
          "text": [
            "accuracy:  0.7575757575757576\n",
            "F1_score:  0.6\n",
            "Recall:  0.5\n"
          ]
        }
      ]
    },
    {
      "cell_type": "code",
      "source": [
        "confusion_matrix(y_test,y_pred)"
      ],
      "metadata": {
        "colab": {
          "base_uri": "https://localhost:8080/"
        },
        "id": "Hg1tnqnaJQpW",
        "outputId": "5af7010a-3c06-4ca2-d98e-2a6e9ec104b9"
      },
      "execution_count": null,
      "outputs": [
        {
          "output_type": "execute_result",
          "data": {
            "text/plain": [
              "array([[19,  2],\n",
              "       [ 6,  6]])"
            ]
          },
          "metadata": {},
          "execution_count": 2217
        }
      ]
    },
    {
      "cell_type": "code",
      "source": [
        "from sklearn.preprocessing import LabelEncoder,StandardScaler\n",
        "df['outcome'] = LabelEncoder().fit_transform(df['outcome'].values)"
      ],
      "metadata": {
        "id": "4OlaSElzGAMo"
      },
      "execution_count": null,
      "outputs": []
    },
    {
      "cell_type": "code",
      "source": [
        "df.head()"
      ],
      "metadata": {
        "colab": {
          "base_uri": "https://localhost:8080/",
          "height": 299
        },
        "id": "mW0aWVHT8mcM",
        "outputId": "6c8e7fad-4888-4837-c216-eff0e7296bb9"
      },
      "execution_count": null,
      "outputs": [
        {
          "output_type": "execute_result",
          "data": {
            "text/plain": [
              "       id  outcome  time  radius_mean  texture_mean  perimeter_mean  \\\n",
              "0  856385        0    76        13.17         21.81           85.42   \n",
              "1  857010        1     8        18.65         17.60          123.70   \n",
              "2   85715        0   111        13.17         18.66           85.98   \n",
              "3  857438        1    48        15.10         22.02           97.26   \n",
              "4  857637        1    11        19.21         18.57          125.50   \n",
              "\n",
              "   area_mean  smoothness_mean  compactness_mean  concavity_mean  ...  \\\n",
              "0      531.5          0.09714           0.10470         0.08259  ...   \n",
              "1     1076.0          0.10990           0.16860         0.19740  ...   \n",
              "2      534.6          0.11580           0.12310         0.12260  ...   \n",
              "3      712.8          0.09056           0.07081         0.05253  ...   \n",
              "4     1152.0          0.10530           0.12670         0.13230  ...   \n",
              "\n",
              "   perimeter_worst  area_worst  smoothness_worst  compactness_worst  \\\n",
              "0            105.5       740.7            0.1503             0.3904   \n",
              "1            150.6      1567.0            0.1679             0.5090   \n",
              "2            102.8       759.4            0.1786             0.4166   \n",
              "3            117.7      1030.0            0.1389             0.2057   \n",
              "4            170.1      2145.0            0.1624             0.3511   \n",
              "\n",
              "   concavity_worst  concave_points_worst  symmetry_worst  \\\n",
              "0           0.3728                0.1607          0.3693   \n",
              "1           0.7345                0.2378          0.3799   \n",
              "2           0.5006                0.2088          0.3900   \n",
              "3           0.2712                0.1530          0.2675   \n",
              "4           0.3879                0.2091          0.3537   \n",
              "\n",
              "   fractal_dimension_worst  tumor_size  lymph_node_status  \n",
              "0                  0.09618         1.7                  1  \n",
              "1                  0.09185         1.8                  0  \n",
              "2                  0.11790         1.0                  1  \n",
              "3                  0.07873         2.5                  0  \n",
              "4                  0.08294         3.2                  3  \n",
              "\n",
              "[5 rows x 35 columns]"
            ],
            "text/html": [
              "\n",
              "  <div id=\"df-4b5e5268-7bb0-4ac3-838a-30735e3f916d\">\n",
              "    <div class=\"colab-df-container\">\n",
              "      <div>\n",
              "<style scoped>\n",
              "    .dataframe tbody tr th:only-of-type {\n",
              "        vertical-align: middle;\n",
              "    }\n",
              "\n",
              "    .dataframe tbody tr th {\n",
              "        vertical-align: top;\n",
              "    }\n",
              "\n",
              "    .dataframe thead th {\n",
              "        text-align: right;\n",
              "    }\n",
              "</style>\n",
              "<table border=\"1\" class=\"dataframe\">\n",
              "  <thead>\n",
              "    <tr style=\"text-align: right;\">\n",
              "      <th></th>\n",
              "      <th>id</th>\n",
              "      <th>outcome</th>\n",
              "      <th>time</th>\n",
              "      <th>radius_mean</th>\n",
              "      <th>texture_mean</th>\n",
              "      <th>perimeter_mean</th>\n",
              "      <th>area_mean</th>\n",
              "      <th>smoothness_mean</th>\n",
              "      <th>compactness_mean</th>\n",
              "      <th>concavity_mean</th>\n",
              "      <th>...</th>\n",
              "      <th>perimeter_worst</th>\n",
              "      <th>area_worst</th>\n",
              "      <th>smoothness_worst</th>\n",
              "      <th>compactness_worst</th>\n",
              "      <th>concavity_worst</th>\n",
              "      <th>concave_points_worst</th>\n",
              "      <th>symmetry_worst</th>\n",
              "      <th>fractal_dimension_worst</th>\n",
              "      <th>tumor_size</th>\n",
              "      <th>lymph_node_status</th>\n",
              "    </tr>\n",
              "  </thead>\n",
              "  <tbody>\n",
              "    <tr>\n",
              "      <th>0</th>\n",
              "      <td>856385</td>\n",
              "      <td>0</td>\n",
              "      <td>76</td>\n",
              "      <td>13.17</td>\n",
              "      <td>21.81</td>\n",
              "      <td>85.42</td>\n",
              "      <td>531.5</td>\n",
              "      <td>0.09714</td>\n",
              "      <td>0.10470</td>\n",
              "      <td>0.08259</td>\n",
              "      <td>...</td>\n",
              "      <td>105.5</td>\n",
              "      <td>740.7</td>\n",
              "      <td>0.1503</td>\n",
              "      <td>0.3904</td>\n",
              "      <td>0.3728</td>\n",
              "      <td>0.1607</td>\n",
              "      <td>0.3693</td>\n",
              "      <td>0.09618</td>\n",
              "      <td>1.7</td>\n",
              "      <td>1</td>\n",
              "    </tr>\n",
              "    <tr>\n",
              "      <th>1</th>\n",
              "      <td>857010</td>\n",
              "      <td>1</td>\n",
              "      <td>8</td>\n",
              "      <td>18.65</td>\n",
              "      <td>17.60</td>\n",
              "      <td>123.70</td>\n",
              "      <td>1076.0</td>\n",
              "      <td>0.10990</td>\n",
              "      <td>0.16860</td>\n",
              "      <td>0.19740</td>\n",
              "      <td>...</td>\n",
              "      <td>150.6</td>\n",
              "      <td>1567.0</td>\n",
              "      <td>0.1679</td>\n",
              "      <td>0.5090</td>\n",
              "      <td>0.7345</td>\n",
              "      <td>0.2378</td>\n",
              "      <td>0.3799</td>\n",
              "      <td>0.09185</td>\n",
              "      <td>1.8</td>\n",
              "      <td>0</td>\n",
              "    </tr>\n",
              "    <tr>\n",
              "      <th>2</th>\n",
              "      <td>85715</td>\n",
              "      <td>0</td>\n",
              "      <td>111</td>\n",
              "      <td>13.17</td>\n",
              "      <td>18.66</td>\n",
              "      <td>85.98</td>\n",
              "      <td>534.6</td>\n",
              "      <td>0.11580</td>\n",
              "      <td>0.12310</td>\n",
              "      <td>0.12260</td>\n",
              "      <td>...</td>\n",
              "      <td>102.8</td>\n",
              "      <td>759.4</td>\n",
              "      <td>0.1786</td>\n",
              "      <td>0.4166</td>\n",
              "      <td>0.5006</td>\n",
              "      <td>0.2088</td>\n",
              "      <td>0.3900</td>\n",
              "      <td>0.11790</td>\n",
              "      <td>1.0</td>\n",
              "      <td>1</td>\n",
              "    </tr>\n",
              "    <tr>\n",
              "      <th>3</th>\n",
              "      <td>857438</td>\n",
              "      <td>1</td>\n",
              "      <td>48</td>\n",
              "      <td>15.10</td>\n",
              "      <td>22.02</td>\n",
              "      <td>97.26</td>\n",
              "      <td>712.8</td>\n",
              "      <td>0.09056</td>\n",
              "      <td>0.07081</td>\n",
              "      <td>0.05253</td>\n",
              "      <td>...</td>\n",
              "      <td>117.7</td>\n",
              "      <td>1030.0</td>\n",
              "      <td>0.1389</td>\n",
              "      <td>0.2057</td>\n",
              "      <td>0.2712</td>\n",
              "      <td>0.1530</td>\n",
              "      <td>0.2675</td>\n",
              "      <td>0.07873</td>\n",
              "      <td>2.5</td>\n",
              "      <td>0</td>\n",
              "    </tr>\n",
              "    <tr>\n",
              "      <th>4</th>\n",
              "      <td>857637</td>\n",
              "      <td>1</td>\n",
              "      <td>11</td>\n",
              "      <td>19.21</td>\n",
              "      <td>18.57</td>\n",
              "      <td>125.50</td>\n",
              "      <td>1152.0</td>\n",
              "      <td>0.10530</td>\n",
              "      <td>0.12670</td>\n",
              "      <td>0.13230</td>\n",
              "      <td>...</td>\n",
              "      <td>170.1</td>\n",
              "      <td>2145.0</td>\n",
              "      <td>0.1624</td>\n",
              "      <td>0.3511</td>\n",
              "      <td>0.3879</td>\n",
              "      <td>0.2091</td>\n",
              "      <td>0.3537</td>\n",
              "      <td>0.08294</td>\n",
              "      <td>3.2</td>\n",
              "      <td>3</td>\n",
              "    </tr>\n",
              "  </tbody>\n",
              "</table>\n",
              "<p>5 rows × 35 columns</p>\n",
              "</div>\n",
              "      <button class=\"colab-df-convert\" onclick=\"convertToInteractive('df-4b5e5268-7bb0-4ac3-838a-30735e3f916d')\"\n",
              "              title=\"Convert this dataframe to an interactive table.\"\n",
              "              style=\"display:none;\">\n",
              "        \n",
              "  <svg xmlns=\"http://www.w3.org/2000/svg\" height=\"24px\"viewBox=\"0 0 24 24\"\n",
              "       width=\"24px\">\n",
              "    <path d=\"M0 0h24v24H0V0z\" fill=\"none\"/>\n",
              "    <path d=\"M18.56 5.44l.94 2.06.94-2.06 2.06-.94-2.06-.94-.94-2.06-.94 2.06-2.06.94zm-11 1L8.5 8.5l.94-2.06 2.06-.94-2.06-.94L8.5 2.5l-.94 2.06-2.06.94zm10 10l.94 2.06.94-2.06 2.06-.94-2.06-.94-.94-2.06-.94 2.06-2.06.94z\"/><path d=\"M17.41 7.96l-1.37-1.37c-.4-.4-.92-.59-1.43-.59-.52 0-1.04.2-1.43.59L10.3 9.45l-7.72 7.72c-.78.78-.78 2.05 0 2.83L4 21.41c.39.39.9.59 1.41.59.51 0 1.02-.2 1.41-.59l7.78-7.78 2.81-2.81c.8-.78.8-2.07 0-2.86zM5.41 20L4 18.59l7.72-7.72 1.47 1.35L5.41 20z\"/>\n",
              "  </svg>\n",
              "      </button>\n",
              "      \n",
              "  <style>\n",
              "    .colab-df-container {\n",
              "      display:flex;\n",
              "      flex-wrap:wrap;\n",
              "      gap: 12px;\n",
              "    }\n",
              "\n",
              "    .colab-df-convert {\n",
              "      background-color: #E8F0FE;\n",
              "      border: none;\n",
              "      border-radius: 50%;\n",
              "      cursor: pointer;\n",
              "      display: none;\n",
              "      fill: #1967D2;\n",
              "      height: 32px;\n",
              "      padding: 0 0 0 0;\n",
              "      width: 32px;\n",
              "    }\n",
              "\n",
              "    .colab-df-convert:hover {\n",
              "      background-color: #E2EBFA;\n",
              "      box-shadow: 0px 1px 2px rgba(60, 64, 67, 0.3), 0px 1px 3px 1px rgba(60, 64, 67, 0.15);\n",
              "      fill: #174EA6;\n",
              "    }\n",
              "\n",
              "    [theme=dark] .colab-df-convert {\n",
              "      background-color: #3B4455;\n",
              "      fill: #D2E3FC;\n",
              "    }\n",
              "\n",
              "    [theme=dark] .colab-df-convert:hover {\n",
              "      background-color: #434B5C;\n",
              "      box-shadow: 0px 1px 3px 1px rgba(0, 0, 0, 0.15);\n",
              "      filter: drop-shadow(0px 1px 2px rgba(0, 0, 0, 0.3));\n",
              "      fill: #FFFFFF;\n",
              "    }\n",
              "  </style>\n",
              "\n",
              "      <script>\n",
              "        const buttonEl =\n",
              "          document.querySelector('#df-4b5e5268-7bb0-4ac3-838a-30735e3f916d button.colab-df-convert');\n",
              "        buttonEl.style.display =\n",
              "          google.colab.kernel.accessAllowed ? 'block' : 'none';\n",
              "\n",
              "        async function convertToInteractive(key) {\n",
              "          const element = document.querySelector('#df-4b5e5268-7bb0-4ac3-838a-30735e3f916d');\n",
              "          const dataTable =\n",
              "            await google.colab.kernel.invokeFunction('convertToInteractive',\n",
              "                                                     [key], {});\n",
              "          if (!dataTable) return;\n",
              "\n",
              "          const docLinkHtml = 'Like what you see? Visit the ' +\n",
              "            '<a target=\"_blank\" href=https://colab.research.google.com/notebooks/data_table.ipynb>data table notebook</a>'\n",
              "            + ' to learn more about interactive tables.';\n",
              "          element.innerHTML = '';\n",
              "          dataTable['output_type'] = 'display_data';\n",
              "          await google.colab.output.renderOutput(dataTable, element);\n",
              "          const docLink = document.createElement('div');\n",
              "          docLink.innerHTML = docLinkHtml;\n",
              "          element.appendChild(docLink);\n",
              "        }\n",
              "      </script>\n",
              "    </div>\n",
              "  </div>\n",
              "  "
            ]
          },
          "metadata": {},
          "execution_count": 2219
        }
      ]
    },
    {
      "cell_type": "code",
      "source": [
        "from scipy.stats import pointbiserialr"
      ],
      "metadata": {
        "id": "JNWf8nm2vpau"
      },
      "execution_count": null,
      "outputs": []
    },
    {
      "cell_type": "code",
      "source": [
        "Dict={}"
      ],
      "metadata": {
        "id": "8MN9bQ4qSNu3"
      },
      "execution_count": null,
      "outputs": []
    },
    {
      "cell_type": "code",
      "source": [
        "mask = df['outcome'] == 1\n",
        "df1 = df[mask]\n",
        "df1 = df1.iloc[:,2:]\n",
        "df2 = df[~mask]"
      ],
      "metadata": {
        "id": "WW8C2LY5WrIV"
      },
      "execution_count": null,
      "outputs": []
    },
    {
      "cell_type": "code",
      "source": [
        "df1.head()"
      ],
      "metadata": {
        "colab": {
          "base_uri": "https://localhost:8080/",
          "height": 299
        },
        "id": "BuNX_Zbgje0L",
        "outputId": "86e6e1db-5275-45b2-9f3f-491456e4aa97"
      },
      "execution_count": null,
      "outputs": [
        {
          "output_type": "execute_result",
          "data": {
            "text/plain": [
              "   time  radius_mean  texture_mean  perimeter_mean  area_mean  \\\n",
              "1     8        18.65         17.60          123.70     1076.0   \n",
              "3    48        15.10         22.02           97.26      712.8   \n",
              "4    11        19.21         18.57          125.50     1152.0   \n",
              "6    34        14.25         22.15           96.42      645.7   \n",
              "7    19        12.68         23.84           82.69      499.0   \n",
              "\n",
              "   smoothness_mean  compactness_mean  concavity_mean  concave_points_mean  \\\n",
              "1          0.10990           0.16860         0.19740              0.10090   \n",
              "3          0.09056           0.07081         0.05253              0.03334   \n",
              "4          0.10530           0.12670         0.13230              0.08994   \n",
              "6          0.10490           0.20080         0.21350              0.08653   \n",
              "7          0.11220           0.12620         0.11280              0.06873   \n",
              "\n",
              "   symmetry_mean  ...  perimeter_worst  area_worst  smoothness_worst  \\\n",
              "1         0.1907  ...            150.6      1567.0            0.1679   \n",
              "3         0.1616  ...            117.7      1030.0            0.1389   \n",
              "4         0.1917  ...            170.1      2145.0            0.1624   \n",
              "6         0.1949  ...            119.1       959.5            0.1640   \n",
              "7         0.1905  ...            111.8       888.3            0.1851   \n",
              "\n",
              "   compactness_worst  concavity_worst  concave_points_worst  symmetry_worst  \\\n",
              "1             0.5090           0.7345                0.2378          0.3799   \n",
              "3             0.2057           0.2712                0.1530          0.2675   \n",
              "4             0.3511           0.3879                0.2091          0.3537   \n",
              "6             0.6247           0.6922                0.1785          0.2844   \n",
              "7             0.4061           0.4024                0.1716          0.3383   \n",
              "\n",
              "   fractal_dimension_worst  tumor_size  lymph_node_status  \n",
              "1                  0.09185         1.8                  0  \n",
              "3                  0.07873         2.5                  0  \n",
              "4                  0.08294         3.2                  3  \n",
              "6                  0.11320         1.5                  0  \n",
              "7                  0.10310         1.2                  1  \n",
              "\n",
              "[5 rows x 33 columns]"
            ],
            "text/html": [
              "\n",
              "  <div id=\"df-e0258239-6c61-4f4c-b3ab-9aa7bb88936e\">\n",
              "    <div class=\"colab-df-container\">\n",
              "      <div>\n",
              "<style scoped>\n",
              "    .dataframe tbody tr th:only-of-type {\n",
              "        vertical-align: middle;\n",
              "    }\n",
              "\n",
              "    .dataframe tbody tr th {\n",
              "        vertical-align: top;\n",
              "    }\n",
              "\n",
              "    .dataframe thead th {\n",
              "        text-align: right;\n",
              "    }\n",
              "</style>\n",
              "<table border=\"1\" class=\"dataframe\">\n",
              "  <thead>\n",
              "    <tr style=\"text-align: right;\">\n",
              "      <th></th>\n",
              "      <th>time</th>\n",
              "      <th>radius_mean</th>\n",
              "      <th>texture_mean</th>\n",
              "      <th>perimeter_mean</th>\n",
              "      <th>area_mean</th>\n",
              "      <th>smoothness_mean</th>\n",
              "      <th>compactness_mean</th>\n",
              "      <th>concavity_mean</th>\n",
              "      <th>concave_points_mean</th>\n",
              "      <th>symmetry_mean</th>\n",
              "      <th>...</th>\n",
              "      <th>perimeter_worst</th>\n",
              "      <th>area_worst</th>\n",
              "      <th>smoothness_worst</th>\n",
              "      <th>compactness_worst</th>\n",
              "      <th>concavity_worst</th>\n",
              "      <th>concave_points_worst</th>\n",
              "      <th>symmetry_worst</th>\n",
              "      <th>fractal_dimension_worst</th>\n",
              "      <th>tumor_size</th>\n",
              "      <th>lymph_node_status</th>\n",
              "    </tr>\n",
              "  </thead>\n",
              "  <tbody>\n",
              "    <tr>\n",
              "      <th>1</th>\n",
              "      <td>8</td>\n",
              "      <td>18.65</td>\n",
              "      <td>17.60</td>\n",
              "      <td>123.70</td>\n",
              "      <td>1076.0</td>\n",
              "      <td>0.10990</td>\n",
              "      <td>0.16860</td>\n",
              "      <td>0.19740</td>\n",
              "      <td>0.10090</td>\n",
              "      <td>0.1907</td>\n",
              "      <td>...</td>\n",
              "      <td>150.6</td>\n",
              "      <td>1567.0</td>\n",
              "      <td>0.1679</td>\n",
              "      <td>0.5090</td>\n",
              "      <td>0.7345</td>\n",
              "      <td>0.2378</td>\n",
              "      <td>0.3799</td>\n",
              "      <td>0.09185</td>\n",
              "      <td>1.8</td>\n",
              "      <td>0</td>\n",
              "    </tr>\n",
              "    <tr>\n",
              "      <th>3</th>\n",
              "      <td>48</td>\n",
              "      <td>15.10</td>\n",
              "      <td>22.02</td>\n",
              "      <td>97.26</td>\n",
              "      <td>712.8</td>\n",
              "      <td>0.09056</td>\n",
              "      <td>0.07081</td>\n",
              "      <td>0.05253</td>\n",
              "      <td>0.03334</td>\n",
              "      <td>0.1616</td>\n",
              "      <td>...</td>\n",
              "      <td>117.7</td>\n",
              "      <td>1030.0</td>\n",
              "      <td>0.1389</td>\n",
              "      <td>0.2057</td>\n",
              "      <td>0.2712</td>\n",
              "      <td>0.1530</td>\n",
              "      <td>0.2675</td>\n",
              "      <td>0.07873</td>\n",
              "      <td>2.5</td>\n",
              "      <td>0</td>\n",
              "    </tr>\n",
              "    <tr>\n",
              "      <th>4</th>\n",
              "      <td>11</td>\n",
              "      <td>19.21</td>\n",
              "      <td>18.57</td>\n",
              "      <td>125.50</td>\n",
              "      <td>1152.0</td>\n",
              "      <td>0.10530</td>\n",
              "      <td>0.12670</td>\n",
              "      <td>0.13230</td>\n",
              "      <td>0.08994</td>\n",
              "      <td>0.1917</td>\n",
              "      <td>...</td>\n",
              "      <td>170.1</td>\n",
              "      <td>2145.0</td>\n",
              "      <td>0.1624</td>\n",
              "      <td>0.3511</td>\n",
              "      <td>0.3879</td>\n",
              "      <td>0.2091</td>\n",
              "      <td>0.3537</td>\n",
              "      <td>0.08294</td>\n",
              "      <td>3.2</td>\n",
              "      <td>3</td>\n",
              "    </tr>\n",
              "    <tr>\n",
              "      <th>6</th>\n",
              "      <td>34</td>\n",
              "      <td>14.25</td>\n",
              "      <td>22.15</td>\n",
              "      <td>96.42</td>\n",
              "      <td>645.7</td>\n",
              "      <td>0.10490</td>\n",
              "      <td>0.20080</td>\n",
              "      <td>0.21350</td>\n",
              "      <td>0.08653</td>\n",
              "      <td>0.1949</td>\n",
              "      <td>...</td>\n",
              "      <td>119.1</td>\n",
              "      <td>959.5</td>\n",
              "      <td>0.1640</td>\n",
              "      <td>0.6247</td>\n",
              "      <td>0.6922</td>\n",
              "      <td>0.1785</td>\n",
              "      <td>0.2844</td>\n",
              "      <td>0.11320</td>\n",
              "      <td>1.5</td>\n",
              "      <td>0</td>\n",
              "    </tr>\n",
              "    <tr>\n",
              "      <th>7</th>\n",
              "      <td>19</td>\n",
              "      <td>12.68</td>\n",
              "      <td>23.84</td>\n",
              "      <td>82.69</td>\n",
              "      <td>499.0</td>\n",
              "      <td>0.11220</td>\n",
              "      <td>0.12620</td>\n",
              "      <td>0.11280</td>\n",
              "      <td>0.06873</td>\n",
              "      <td>0.1905</td>\n",
              "      <td>...</td>\n",
              "      <td>111.8</td>\n",
              "      <td>888.3</td>\n",
              "      <td>0.1851</td>\n",
              "      <td>0.4061</td>\n",
              "      <td>0.4024</td>\n",
              "      <td>0.1716</td>\n",
              "      <td>0.3383</td>\n",
              "      <td>0.10310</td>\n",
              "      <td>1.2</td>\n",
              "      <td>1</td>\n",
              "    </tr>\n",
              "  </tbody>\n",
              "</table>\n",
              "<p>5 rows × 33 columns</p>\n",
              "</div>\n",
              "      <button class=\"colab-df-convert\" onclick=\"convertToInteractive('df-e0258239-6c61-4f4c-b3ab-9aa7bb88936e')\"\n",
              "              title=\"Convert this dataframe to an interactive table.\"\n",
              "              style=\"display:none;\">\n",
              "        \n",
              "  <svg xmlns=\"http://www.w3.org/2000/svg\" height=\"24px\"viewBox=\"0 0 24 24\"\n",
              "       width=\"24px\">\n",
              "    <path d=\"M0 0h24v24H0V0z\" fill=\"none\"/>\n",
              "    <path d=\"M18.56 5.44l.94 2.06.94-2.06 2.06-.94-2.06-.94-.94-2.06-.94 2.06-2.06.94zm-11 1L8.5 8.5l.94-2.06 2.06-.94-2.06-.94L8.5 2.5l-.94 2.06-2.06.94zm10 10l.94 2.06.94-2.06 2.06-.94-2.06-.94-.94-2.06-.94 2.06-2.06.94z\"/><path d=\"M17.41 7.96l-1.37-1.37c-.4-.4-.92-.59-1.43-.59-.52 0-1.04.2-1.43.59L10.3 9.45l-7.72 7.72c-.78.78-.78 2.05 0 2.83L4 21.41c.39.39.9.59 1.41.59.51 0 1.02-.2 1.41-.59l7.78-7.78 2.81-2.81c.8-.78.8-2.07 0-2.86zM5.41 20L4 18.59l7.72-7.72 1.47 1.35L5.41 20z\"/>\n",
              "  </svg>\n",
              "      </button>\n",
              "      \n",
              "  <style>\n",
              "    .colab-df-container {\n",
              "      display:flex;\n",
              "      flex-wrap:wrap;\n",
              "      gap: 12px;\n",
              "    }\n",
              "\n",
              "    .colab-df-convert {\n",
              "      background-color: #E8F0FE;\n",
              "      border: none;\n",
              "      border-radius: 50%;\n",
              "      cursor: pointer;\n",
              "      display: none;\n",
              "      fill: #1967D2;\n",
              "      height: 32px;\n",
              "      padding: 0 0 0 0;\n",
              "      width: 32px;\n",
              "    }\n",
              "\n",
              "    .colab-df-convert:hover {\n",
              "      background-color: #E2EBFA;\n",
              "      box-shadow: 0px 1px 2px rgba(60, 64, 67, 0.3), 0px 1px 3px 1px rgba(60, 64, 67, 0.15);\n",
              "      fill: #174EA6;\n",
              "    }\n",
              "\n",
              "    [theme=dark] .colab-df-convert {\n",
              "      background-color: #3B4455;\n",
              "      fill: #D2E3FC;\n",
              "    }\n",
              "\n",
              "    [theme=dark] .colab-df-convert:hover {\n",
              "      background-color: #434B5C;\n",
              "      box-shadow: 0px 1px 3px 1px rgba(0, 0, 0, 0.15);\n",
              "      filter: drop-shadow(0px 1px 2px rgba(0, 0, 0, 0.3));\n",
              "      fill: #FFFFFF;\n",
              "    }\n",
              "  </style>\n",
              "\n",
              "      <script>\n",
              "        const buttonEl =\n",
              "          document.querySelector('#df-e0258239-6c61-4f4c-b3ab-9aa7bb88936e button.colab-df-convert');\n",
              "        buttonEl.style.display =\n",
              "          google.colab.kernel.accessAllowed ? 'block' : 'none';\n",
              "\n",
              "        async function convertToInteractive(key) {\n",
              "          const element = document.querySelector('#df-e0258239-6c61-4f4c-b3ab-9aa7bb88936e');\n",
              "          const dataTable =\n",
              "            await google.colab.kernel.invokeFunction('convertToInteractive',\n",
              "                                                     [key], {});\n",
              "          if (!dataTable) return;\n",
              "\n",
              "          const docLinkHtml = 'Like what you see? Visit the ' +\n",
              "            '<a target=\"_blank\" href=https://colab.research.google.com/notebooks/data_table.ipynb>data table notebook</a>'\n",
              "            + ' to learn more about interactive tables.';\n",
              "          element.innerHTML = '';\n",
              "          dataTable['output_type'] = 'display_data';\n",
              "          await google.colab.output.renderOutput(dataTable, element);\n",
              "          const docLink = document.createElement('div');\n",
              "          docLink.innerHTML = docLinkHtml;\n",
              "          element.appendChild(docLink);\n",
              "        }\n",
              "      </script>\n",
              "    </div>\n",
              "  </div>\n",
              "  "
            ]
          },
          "metadata": {},
          "execution_count": 2223
        }
      ]
    },
    {
      "cell_type": "code",
      "source": [
        "for i in col_names:\n",
        "  Dict[i]=pointbiserialr(df['outcome'], df[i]).correlation\n",
        "  print(i+\":\"+str(pointbiserialr(df['outcome'], df[i]).correlation))"
      ],
      "metadata": {
        "colab": {
          "base_uri": "https://localhost:8080/"
        },
        "id": "ODOP_jHHE12-",
        "outputId": "0ae112a3-a900-4272-88a4-cfa24c98c4a6"
      },
      "execution_count": null,
      "outputs": [
        {
          "output_type": "stream",
          "name": "stdout",
          "text": [
            "id:-0.03836062374039954\n",
            "outcome:0.9999999999999998\n",
            "time:-0.3348579690029069\n",
            "radius_mean:0.1656544697345868\n",
            "texture_mean:-0.09132548705754732\n",
            "perimeter_mean:0.1659429183426265\n",
            "area_mean:0.18272267142822507\n",
            "smoothness_mean:0.00497594291017075\n",
            "compactness_mean:-0.021726167983664068\n",
            "concavity_mean:0.038147813211818066\n",
            "concave_points_mean:0.10796510624529504\n",
            "symmetry_mean:-0.13790659409866948\n",
            "fractal_dimension_mean:-0.1479866922162997\n",
            "radius_se:0.12450267336929242\n",
            "texture_se:-0.1026850248585221\n",
            "perimeter_se:0.12812654454125028\n",
            "area_se:0.14854958369174406\n",
            "smoothness_se:-0.09523940924755786\n",
            "compactness_se:-0.04396573869321829\n",
            "concavity_se:-0.11130026300884971\n",
            "concave_points_se:-0.10991843936976267\n",
            "symmetry_se:-0.05674010723415575\n",
            "fractal_dimension_se:-0.0829244466711495\n",
            "radius_worst:0.23649268523607034\n",
            "texture_worst:-0.07278413166482885\n",
            "perimeter_worst:0.23166864088800476\n",
            "area_worst:0.23930337451994332\n",
            "smoothness_worst:0.026548552201030525\n",
            "compactness_worst:-0.01912177837422572\n",
            "concavity_worst:0.007389431719040653\n",
            "concave_points_worst:0.07541181738628612\n",
            "symmetry_worst:-0.061969347126607385\n",
            "fractal_dimension_worst:-0.07328001403751803\n",
            "tumor_size:0.16105545128000823\n",
            "lymph_node_status:0.27010434038011916\n"
          ]
        }
      ]
    },
    {
      "cell_type": "code",
      "source": [
        "# import operator\n",
        "# sorted = sorted(Dict, key=Dict.get)"
      ],
      "metadata": {
        "id": "g3ICLMtjFHFQ"
      },
      "execution_count": null,
      "outputs": []
    },
    {
      "cell_type": "code",
      "source": [
        "# print(sorted)"
      ],
      "metadata": {
        "id": "JaWg7RlvS-dy"
      },
      "execution_count": null,
      "outputs": []
    },
    {
      "cell_type": "code",
      "source": [
        "# train=df.sample(frac=0.8,random_state=200) #random state is a seed value\n",
        "# test=df.drop(train.index)"
      ],
      "metadata": {
        "id": "CQsILYrADt2F"
      },
      "execution_count": null,
      "outputs": []
    },
    {
      "cell_type": "markdown",
      "source": [
        "# Logistic Regression with Correlations"
      ],
      "metadata": {
        "id": "8GmxRRitg62M"
      }
    },
    {
      "cell_type": "code",
      "source": [
        "from sklearn import linear_model\n",
        "mlr = linear_model.LogisticRegression()\n",
        "\n",
        "X=df[['time', 'fractal_dimension_mean', 'area_worst', 'lymph_node_status']].values\n",
        "y=df['outcome'].values\n",
        "\n",
        "X_train,X_test,y_train,y_test=train_test_split(X,y,test_size=0.2,random_state=5)\n",
        "\n",
        "\n"
      ],
      "metadata": {
        "id": "4NQXym4aTAlo"
      },
      "execution_count": null,
      "outputs": []
    },
    {
      "cell_type": "code",
      "source": [
        "mlr.fit(X_train, y_train)\n",
        "#print(mlr.coef_)"
      ],
      "metadata": {
        "colab": {
          "base_uri": "https://localhost:8080/"
        },
        "id": "qzIfQ9MJfANi",
        "outputId": "8e6b74f5-6455-4442-df37-4a04ef3eecde"
      },
      "execution_count": null,
      "outputs": [
        {
          "output_type": "execute_result",
          "data": {
            "text/plain": [
              "LogisticRegression()"
            ]
          },
          "metadata": {},
          "execution_count": 2229
        }
      ]
    },
    {
      "cell_type": "code",
      "source": [
        "pred_y = mlr.predict(X_test)\n",
        "m = pred_y.mean()\n",
        "# for i in range(len(pred_y)):\n",
        "#   if pred_y[i] >= m:\n",
        "#     pred_y[i] = 1\n",
        "#   else:\n",
        "#     pred_y[i] = 0\n",
        "\n",
        "print(\"Accuracy\",accuracy_score(y_test, pred_y))\n",
        "print(\"F1_score\",f1_score(y_test, pred_y))\n",
        "print(\"Recall\",recall_score(y_test, pred_y))"
      ],
      "metadata": {
        "id": "gbudU0fgE9GS",
        "colab": {
          "base_uri": "https://localhost:8080/"
        },
        "outputId": "70d6e44e-e5ce-412c-c325-f00a8fff2720"
      },
      "execution_count": null,
      "outputs": [
        {
          "output_type": "stream",
          "name": "stdout",
          "text": [
            "Accuracy 0.8787878787878788\n",
            "F1_score 0.8\n",
            "Recall 0.6666666666666666\n"
          ]
        }
      ]
    },
    {
      "cell_type": "markdown",
      "source": [
        "# Time Linear Regression"
      ],
      "metadata": {
        "id": "B7JARVjbnc9L"
      }
    },
    {
      "cell_type": "code",
      "source": [
        "Dict2=dict()\n",
        "correlation = df1.corr()\n",
        "col_names2 = col_names[2:]\n",
        "for i in col_names2:\n",
        "  Dict2[i]=correlation.loc['time', i]\n",
        "  print(i+\":\"+str(correlation.loc['time', i]))"
      ],
      "metadata": {
        "id": "8COITBLZULfE",
        "colab": {
          "base_uri": "https://localhost:8080/"
        },
        "outputId": "23249a78-ecfb-4d04-87b9-03e25e723c72"
      },
      "execution_count": null,
      "outputs": [
        {
          "output_type": "stream",
          "name": "stdout",
          "text": [
            "time:1.0\n",
            "radius_mean:-0.3749259024573016\n",
            "texture_mean:0.014395189972563414\n",
            "perimeter_mean:-0.37636997492008706\n",
            "area_mean:-0.35817591363011586\n",
            "smoothness_mean:0.05335697657346742\n",
            "compactness_mean:-0.20352376008692796\n",
            "concavity_mean:-0.27794916272927545\n",
            "concave_points_mean:-0.318120303442199\n",
            "symmetry_mean:0.1826539044730002\n",
            "fractal_dimension_mean:0.16128543993520786\n",
            "radius_se:-0.1446823819565408\n",
            "texture_se:0.25933091848955186\n",
            "perimeter_se:-0.12068581088326055\n",
            "area_se:-0.19771041431426892\n",
            "smoothness_se:0.034121080120362225\n",
            "compactness_se:0.04252424756549347\n",
            "concavity_se:-0.08428719108617608\n",
            "concave_points_se:-0.046294240186226764\n",
            "symmetry_se:0.00800770009457895\n",
            "fractal_dimension_se:0.15070210660335367\n",
            "radius_worst:-0.3595859180251384\n",
            "texture_worst:0.13787185550737124\n",
            "perimeter_worst:-0.3535535810462717\n",
            "area_worst:-0.33309683377279126\n",
            "smoothness_worst:0.05024808661802566\n",
            "compactness_worst:-0.073584730001135\n",
            "concavity_worst:-0.19521571561008402\n",
            "concave_points_worst:-0.3405416297326542\n",
            "symmetry_worst:-0.024827328340552096\n",
            "fractal_dimension_worst:0.15067959647439913\n",
            "tumor_size:-0.13009156706246114\n",
            "lymph_node_status:-0.1524757983253826\n"
          ]
        }
      ]
    },
    {
      "cell_type": "code",
      "source": [
        "Dict2 = [(k, v) for k, v in Dict2.items()]"
      ],
      "metadata": {
        "id": "iHhOCfQYXhU_"
      },
      "execution_count": null,
      "outputs": []
    },
    {
      "cell_type": "code",
      "source": [
        "Dict2.sort(key=lambda x: x[1])"
      ],
      "metadata": {
        "id": "rOt5T_XNYLhn"
      },
      "execution_count": null,
      "outputs": []
    },
    {
      "cell_type": "code",
      "source": [
        "Dict2"
      ],
      "metadata": {
        "colab": {
          "base_uri": "https://localhost:8080/"
        },
        "id": "swiVvd0Hi7a2",
        "outputId": "77cdf09d-be37-485a-d73f-56cb058d6030"
      },
      "execution_count": null,
      "outputs": [
        {
          "output_type": "execute_result",
          "data": {
            "text/plain": [
              "[('perimeter_mean', -0.37636997492008706),\n",
              " ('radius_mean', -0.3749259024573016),\n",
              " ('radius_worst', -0.3595859180251384),\n",
              " ('area_mean', -0.35817591363011586),\n",
              " ('perimeter_worst', -0.3535535810462717),\n",
              " ('concave_points_worst', -0.3405416297326542),\n",
              " ('area_worst', -0.33309683377279126),\n",
              " ('concave_points_mean', -0.318120303442199),\n",
              " ('concavity_mean', -0.27794916272927545),\n",
              " ('compactness_mean', -0.20352376008692796),\n",
              " ('area_se', -0.19771041431426892),\n",
              " ('concavity_worst', -0.19521571561008402),\n",
              " ('lymph_node_status', -0.1524757983253826),\n",
              " ('radius_se', -0.1446823819565408),\n",
              " ('tumor_size', -0.13009156706246114),\n",
              " ('perimeter_se', -0.12068581088326055),\n",
              " ('concavity_se', -0.08428719108617608),\n",
              " ('compactness_worst', -0.073584730001135),\n",
              " ('concave_points_se', -0.046294240186226764),\n",
              " ('symmetry_worst', -0.024827328340552096),\n",
              " ('symmetry_se', 0.00800770009457895),\n",
              " ('texture_mean', 0.014395189972563414),\n",
              " ('smoothness_se', 0.034121080120362225),\n",
              " ('compactness_se', 0.04252424756549347),\n",
              " ('smoothness_worst', 0.05024808661802566),\n",
              " ('smoothness_mean', 0.05335697657346742),\n",
              " ('texture_worst', 0.13787185550737124),\n",
              " ('fractal_dimension_worst', 0.15067959647439913),\n",
              " ('fractal_dimension_se', 0.15070210660335367),\n",
              " ('fractal_dimension_mean', 0.16128543993520786),\n",
              " ('symmetry_mean', 0.1826539044730002),\n",
              " ('texture_se', 0.25933091848955186),\n",
              " ('time', 1.0)]"
            ]
          },
          "metadata": {},
          "execution_count": 2234
        }
      ]
    },
    {
      "cell_type": "code",
      "source": [
        "lr = make_pipeline(linear_model.LinearRegression())\n",
        "\n",
        "X=df1[].values\n",
        "y=df1['time'].values\n",
        "\n",
        "X_train,X_test,y_train,y_test=train_test_split(X,y,test_size=0.2,random_state=5)"
      ],
      "metadata": {
        "id": "UbtJq7zol6bi"
      },
      "execution_count": null,
      "outputs": []
    },
    {
      "cell_type": "code",
      "source": [
        "lr.fit(X_train, y_train)"
      ],
      "metadata": {
        "colab": {
          "base_uri": "https://localhost:8080/"
        },
        "id": "a3CaDTEXnqgk",
        "outputId": "6667bb29-dba3-426a-b9b8-d2c8f9bd5123"
      },
      "execution_count": null,
      "outputs": [
        {
          "output_type": "execute_result",
          "data": {
            "text/plain": [
              "Pipeline(steps=[('linearregression', LinearRegression())])"
            ]
          },
          "metadata": {},
          "execution_count": 2236
        }
      ]
    },
    {
      "cell_type": "code",
      "source": [
        "y_pred = lr.predict(X_test)"
      ],
      "metadata": {
        "id": "Dr0gTrJdn5r1"
      },
      "execution_count": null,
      "outputs": []
    },
    {
      "cell_type": "code",
      "source": [
        "# pred_y = y_pred\n",
        "# for i in range(len(y_pred)):\n",
        "#   pred_y[i]=(pred_y[i]-min(pred_y))/(max(pred_y)-min(pred_y))"
      ],
      "metadata": {
        "id": "CcbyDWW8oQxk"
      },
      "execution_count": null,
      "outputs": []
    },
    {
      "cell_type": "code",
      "source": [
        "y_pred"
      ],
      "metadata": {
        "colab": {
          "base_uri": "https://localhost:8080/"
        },
        "id": "2US40B3hr6CB",
        "outputId": "df700357-9855-499c-c234-2bf8b615da71"
      },
      "execution_count": null,
      "outputs": [
        {
          "output_type": "execute_result",
          "data": {
            "text/plain": [
              "array([-146.46476303,   55.83637676,  -86.8591647 ,  123.378221  ,\n",
              "        108.39081496,  147.33803053,   79.9216138 ,   88.82164867])"
            ]
          },
          "metadata": {},
          "execution_count": 2239
        }
      ]
    },
    {
      "cell_type": "code",
      "source": [
        "#print(\"Accuracy\",accuracy_score(y_test, y_pred))\n",
        "#print(\"F1_score\",f1_score(y_test, y_pred))\n",
        "#print(\"Recall\",recall_score(y_test, y_pred))"
      ],
      "metadata": {
        "id": "hOlb0eYTn-_D"
      },
      "execution_count": null,
      "outputs": []
    },
    {
      "cell_type": "code",
      "source": [
        "X_train.shape"
      ],
      "metadata": {
        "colab": {
          "base_uri": "https://localhost:8080/"
        },
        "id": "fUnWoBqOweeN",
        "outputId": "3b97b5df-3db2-4eec-bb65-e091123ac2c6"
      },
      "execution_count": null,
      "outputs": [
        {
          "output_type": "execute_result",
          "data": {
            "text/plain": [
              "(32, 32)"
            ]
          },
          "metadata": {},
          "execution_count": 2241
        }
      ]
    },
    {
      "cell_type": "code",
      "source": [
        "X_train,X_test,y_train,y_test=train_test_split(X,y,test_size=0.2,random_state=5)"
      ],
      "metadata": {
        "id": "o91NFXW4w2Je"
      },
      "execution_count": null,
      "outputs": []
    },
    {
      "cell_type": "code",
      "source": [
        "import tensorflow as tf\n",
        "\n",
        "model1 = tf.keras.models.Sequential()\n",
        "\n",
        "model1.add(tf.keras.layers.Dense(units = 64, activation = 'tanh', input_shape = (32,)))\n",
        "model1.add(tf.keras.layers.Dense(units = 32, activation = 'tanh'))\n",
        "model1.add(tf.keras.layers.Dense(units = 1, activation = 'linear'))\n",
        "#model1.add(tf.keras.layers.ReLU(threshold=0.5))\n",
        "\n",
        "model1.compile(optimizer = 'adagrad', loss='mse', metrics=[tf.keras.metrics.MeanAbsoluteError()])"
      ],
      "metadata": {
        "id": "ygn1Q5w5va-O"
      },
      "execution_count": null,
      "outputs": []
    },
    {
      "cell_type": "code",
      "source": [
        "model1.fit(X_train,y_train, epochs=15, validation_split=0.1)"
      ],
      "metadata": {
        "colab": {
          "base_uri": "https://localhost:8080/"
        },
        "id": "Vn5neAbtw8v4",
        "outputId": "53c50c1e-d63f-4d72-dff6-a05f357f18c3"
      },
      "execution_count": null,
      "outputs": [
        {
          "output_type": "stream",
          "name": "stdout",
          "text": [
            "Epoch 1/15\n",
            "1/1 [==============================] - 1s 558ms/step - loss: 585.8937 - mean_absolute_error: 18.0698 - val_loss: 2745.1274 - val_mean_absolute_error: 43.4008\n",
            "Epoch 2/15\n",
            "1/1 [==============================] - 0s 33ms/step - loss: 576.1349 - mean_absolute_error: 17.7719 - val_loss: 2730.7534 - val_mean_absolute_error: 43.2335\n",
            "Epoch 3/15\n",
            "1/1 [==============================] - 0s 52ms/step - loss: 569.4528 - mean_absolute_error: 17.5709 - val_loss: 2716.5562 - val_mean_absolute_error: 43.0602\n",
            "Epoch 4/15\n",
            "1/1 [==============================] - 0s 46ms/step - loss: 564.2670 - mean_absolute_error: 17.4248 - val_loss: 2706.5935 - val_mean_absolute_error: 42.9433\n",
            "Epoch 5/15\n",
            "1/1 [==============================] - 0s 37ms/step - loss: 560.1763 - mean_absolute_error: 17.3109 - val_loss: 2697.9229 - val_mean_absolute_error: 42.8410\n",
            "Epoch 6/15\n",
            "1/1 [==============================] - 0s 32ms/step - loss: 556.6351 - mean_absolute_error: 17.2214 - val_loss: 2690.0540 - val_mean_absolute_error: 42.7482\n",
            "Epoch 7/15\n",
            "1/1 [==============================] - 0s 59ms/step - loss: 553.4312 - mean_absolute_error: 17.1391 - val_loss: 2682.7961 - val_mean_absolute_error: 42.6625\n",
            "Epoch 8/15\n",
            "1/1 [==============================] - 0s 33ms/step - loss: 550.4875 - mean_absolute_error: 17.0627 - val_loss: 2676.0254 - val_mean_absolute_error: 42.5824\n",
            "Epoch 9/15\n",
            "1/1 [==============================] - 0s 35ms/step - loss: 547.7529 - mean_absolute_error: 16.9915 - val_loss: 2669.6550 - val_mean_absolute_error: 42.5070\n",
            "Epoch 10/15\n",
            "1/1 [==============================] - 0s 34ms/step - loss: 545.1911 - mean_absolute_error: 16.9246 - val_loss: 2663.6213 - val_mean_absolute_error: 42.4354\n",
            "Epoch 11/15\n",
            "1/1 [==============================] - 0s 38ms/step - loss: 542.7753 - mean_absolute_error: 16.8614 - val_loss: 2657.8762 - val_mean_absolute_error: 42.3672\n",
            "Epoch 12/15\n",
            "1/1 [==============================] - 0s 33ms/step - loss: 540.4849 - mean_absolute_error: 16.8013 - val_loss: 2652.3821 - val_mean_absolute_error: 42.3019\n",
            "Epoch 13/15\n",
            "1/1 [==============================] - 0s 38ms/step - loss: 538.3037 - mean_absolute_error: 16.7438 - val_loss: 2647.1089 - val_mean_absolute_error: 42.2392\n",
            "Epoch 14/15\n",
            "1/1 [==============================] - 0s 30ms/step - loss: 536.2187 - mean_absolute_error: 16.6886 - val_loss: 2642.0327 - val_mean_absolute_error: 42.1787\n",
            "Epoch 15/15\n",
            "1/1 [==============================] - 0s 31ms/step - loss: 534.2192 - mean_absolute_error: 16.6355 - val_loss: 2637.1323 - val_mean_absolute_error: 42.1203\n"
          ]
        },
        {
          "output_type": "execute_result",
          "data": {
            "text/plain": [
              "<keras.callbacks.History at 0x7f811c8d7590>"
            ]
          },
          "metadata": {},
          "execution_count": 2244
        }
      ]
    },
    {
      "cell_type": "code",
      "source": [
        "y_pred = model1.predict(X_test)"
      ],
      "metadata": {
        "id": "VjY4ZODEycGX"
      },
      "execution_count": null,
      "outputs": []
    },
    {
      "cell_type": "code",
      "source": [
        "y_pred"
      ],
      "metadata": {
        "colab": {
          "base_uri": "https://localhost:8080/"
        },
        "id": "qkt4b5owyhA2",
        "outputId": "45f09712-1d81-4153-c68b-f2edf9213dab"
      },
      "execution_count": null,
      "outputs": [
        {
          "output_type": "execute_result",
          "data": {
            "text/plain": [
              "array([[1.7957217],\n",
              "       [2.0946302],\n",
              "       [2.09336  ],\n",
              "       [2.094639 ],\n",
              "       [2.0110273],\n",
              "       [1.5622426],\n",
              "       [2.35707  ],\n",
              "       [2.3371167]], dtype=float32)"
            ]
          },
          "metadata": {},
          "execution_count": 2246
        }
      ]
    },
    {
      "cell_type": "code",
      "source": [
        "y_test"
      ],
      "metadata": {
        "colab": {
          "base_uri": "https://localhost:8080/"
        },
        "id": "Vmjjr3pWyrln",
        "outputId": "4e7581f9-9a0e-43e0-9f7c-bb6e211691a7"
      },
      "execution_count": null,
      "outputs": [
        {
          "output_type": "execute_result",
          "data": {
            "text/plain": [
              "array([ 5, 78, 33, 34, 24, 40, 19,  3])"
            ]
          },
          "metadata": {},
          "execution_count": 2247
        }
      ]
    }
  ]
}